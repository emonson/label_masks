{
 "cells": [
  {
   "cell_type": "markdown",
   "metadata": {},
   "source": [
    "## Supervise.ly bitmap-based label data from JSON to image \n",
    "\n",
    "- `PIL` is really installed as `pillow`\n",
    "- `cv2` is really installed as `opencv`\n",
    "\n",
    "```\n",
    "conda create --name cv2 opencv pillow scikit-image numpy zlib matplotlib\n",
    "```"
   ]
  },
  {
   "cell_type": "code",
   "execution_count": 22,
   "metadata": {},
   "outputs": [],
   "source": [
    "import cv2\n",
    "from PIL import Image\n",
    "import zlib\n",
    "import numpy as np\n",
    "import io\n",
    "import json\n",
    "import base64\n",
    "from skimage import io as skio\n",
    "import matplotlib.pyplot as plt"
   ]
  },
  {
   "cell_type": "markdown",
   "metadata": {},
   "source": [
    "https://docs.supervise.ly/data-organization/import-export/supervisely-format#bitmap\n",
    "\n",
    "Heeded a warning and changed `np.fromstring()` to `np.frombuffer()` and seems to work fine"
   ]
  },
  {
   "cell_type": "code",
   "execution_count": 15,
   "metadata": {},
   "outputs": [],
   "source": [
    "def base64_2_mask(s):\n",
    "    z = zlib.decompress(base64.b64decode(s))\n",
    "    n = np.frombuffer(z, np.uint8)\n",
    "    mask = cv2.imdecode(n, cv2.IMREAD_UNCHANGED)[:, :, 3].astype(bool)\n",
    "    return mask\n",
    "\n",
    "def mask_2_base64(mask):\n",
    "    img_pil = Image.fromarray(np.array(mask, dtype=np.uint8))\n",
    "    img_pil.putpalette([0,0,0,255,255,255])\n",
    "    bytes_io = io.BytesIO()\n",
    "    img_pil.save(bytes_io, format='PNG', transparency=0, optimize=0)\n",
    "    bytes = bytes_io.getvalue()\n",
    "    return base64.b64encode(zlib.compress(bytes)).decode('utf-8')"
   ]
  },
  {
   "cell_type": "code",
   "execution_count": 6,
   "metadata": {},
   "outputs": [],
   "source": [
    "with open('melgaco2.jpg.json','r') as f:\n",
    "    annotations = json.load(f)"
   ]
  },
  {
   "cell_type": "code",
   "execution_count": 10,
   "metadata": {},
   "outputs": [
    {
     "name": "stdout",
     "output_type": "stream",
     "text": [
      "0 455524684 polygon\n",
      "1 455524879 polygon\n",
      "2 455525094 polygon\n",
      "3 455525139 polygon\n",
      "4 455525195 polygon\n",
      "5 455525319 polygon\n",
      "6 455525361 polygon\n",
      "7 455525387 polygon\n",
      "8 455525455 polygon\n",
      "9 455525565 polygon\n",
      "10 455525654 polygon\n",
      "11 455525667 polygon\n",
      "12 455525678 polygon\n",
      "13 455525686 polygon\n",
      "14 455525701 polygon\n",
      "15 455525741 bitmap\n",
      "16 455525808 bitmap\n",
      "17 455525835 bitmap\n",
      "18 455526017 bitmap\n",
      "19 455526165 cuboid\n"
     ]
    }
   ],
   "source": [
    "for ii,ob in enumerate(annotations['objects']):\n",
    "    print(ii, ob['id'], ob['geometryType'])"
   ]
  },
  {
   "cell_type": "code",
   "execution_count": 11,
   "metadata": {},
   "outputs": [],
   "source": [
    "ob15 = annotations['objects'][15]\n",
    "bitmap15 = ob15['bitmap']"
   ]
  },
  {
   "cell_type": "code",
   "execution_count": 17,
   "metadata": {},
   "outputs": [
    {
     "data": {
      "text/plain": [
       "array([[False, False, False, ..., False, False, False],\n",
       "       [False, False, False, ..., False, False, False],\n",
       "       [False, False, False, ..., False, False, False],\n",
       "       ...,\n",
       "       [False, False, False, ..., False, False, False],\n",
       "       [False, False, False, ..., False, False, False],\n",
       "       [False, False, False, ..., False, False, False]])"
      ]
     },
     "execution_count": 17,
     "metadata": {},
     "output_type": "execute_result"
    }
   ],
   "source": [
    "mask15 = base64_2_mask(bitmap15['data'])\n",
    "mask15"
   ]
  },
  {
   "cell_type": "code",
   "execution_count": 25,
   "metadata": {},
   "outputs": [
    {
     "data": {
      "image/png": "[encoded data removed]",
      "text/plain": [
       "<Figure size 432x288 with 1 Axes>"
      ]
     },
     "metadata": {
      "needs_background": "light"
     },
     "output_type": "display_data"
    }
   ],
   "source": [
    "skio.imshow(mask15);"
   ]
  },
  {
   "cell_type": "code",
   "execution_count": 39,
   "metadata": {},
   "outputs": [
    {
     "data": {
      "image/png": "[encoded data removed]",
      "text/plain": [
       "<Figure size 720x720 with 4 Axes>"
      ]
     },
     "metadata": {
      "needs_background": "light"
     },
     "output_type": "display_data"
    }
   ],
   "source": [
    "f, (ax1, ax2, ax3, ax4) = plt.subplots(1, 4, figsize=(10,10))\n",
    "skio.imshow(base64_2_mask(annotations['objects'][15]['bitmap']['data']),ax=ax1);\n",
    "skio.imshow(base64_2_mask(annotations['objects'][16]['bitmap']['data']),ax=ax2);\n",
    "skio.imshow(base64_2_mask(annotations['objects'][17]['bitmap']['data']),ax=ax3);\n",
    "skio.imshow(base64_2_mask(annotations['objects'][18]['bitmap']['data']),ax=ax4);"
   ]
  },
  {
   "cell_type": "code",
   "execution_count": null,
   "metadata": {},
   "outputs": [],
   "source": []
  }
 ],
 "metadata": {
  "kernelspec": {
   "display_name": "Python 3",
   "language": "python",
   "name": "python3"
  },
  "language_info": {
   "codemirror_mode": {
    "name": "ipython",
    "version": 3
   },
   "file_extension": ".py",
   "mimetype": "text/x-python",
   "name": "python",
   "nbconvert_exporter": "python",
   "pygments_lexer": "ipython3",
   "version": "3.7.7"
  }
 },
 "nbformat": 4,
 "nbformat_minor": 4
}
